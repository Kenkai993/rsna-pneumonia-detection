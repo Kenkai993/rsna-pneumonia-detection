{
 "cells": [
  {
   "cell_type": "code",
   "execution_count": null,
   "id": "26906f5c",
   "metadata": {},
   "outputs": [],
   "source": [
    "import torch\n",
    "import torchvision\n",
    "from torchvision import transforms\n",
    "import torchmetrics\n",
    "import pytorch_lightning as pl\n",
    "from pytorch_lightning.callbacks import ModelCheckpoint\n",
    "from pytorch_lightning.loggers import TensorBoardLogger\n",
    "from tqdm.notebook import tqdm\n",
    "import numpy as np\n",
    "import matplotlib.pyplot as plt"
   ]
  },
  {
   "cell_type": "code",
   "execution_count": null,
   "id": "a7882877",
   "metadata": {},
   "outputs": [],
   "source": [
    "def load_file(path):\n",
    "    return np.load(path).astype(np.float32)"
   ]
  },
  {
   "cell_type": "code",
   "execution_count": null,
   "id": "8dc0f23b",
   "metadata": {},
   "outputs": [],
   "source": [
    "train_transforms = transforms.Compose([\n",
    "                                    transforms.ToTensor(),  \n",
    "                                    transforms.Normalize(0.49, 0.248),  \n",
    "                                    transforms.RandomAffine( \n",
    "                                        degrees=(-5, 5), translate=(0, 0.05), scale=(0.9, 1.1)),\n",
    "                                        transforms.RandomResizedCrop((224, 224), scale=(0.35, 1))\n",
    "\n",
    "])\n",
    "\n",
    "val_transforms = transforms.Compose([\n",
    "                                    transforms.ToTensor(),  \n",
    "                                    transforms.Normalize([0.49], [0.248]),  \n",
    "])\n",
    "\n",
    "\n",
    "\n"
   ]
  },
  {
   "cell_type": "code",
   "execution_count": null,
   "id": "d5e6a177",
   "metadata": {},
   "outputs": [],
   "source": [
    "train_dataset=torchvision.datasets.DatasetFolder(\n",
    "    \"Processed/train/\",\n",
    "    loader=load_file,extensions=\".npy\",transform=train_transforms)\n",
    "val_dataset=torchvision.datasets.DatasetFolder(\n",
    "    \"Processed/val/\",\n",
    "    loader=load_file,extensions=\".npy\",transform=val_transforms)\n",
    "\n"
   ]
  },
  {
   "cell_type": "code",
   "execution_count": null,
   "id": "dbe0dd97",
   "metadata": {},
   "outputs": [],
   "source": [
    "fig,axis=plt.subplots(2,2,figsize=(9,9))\n",
    "for i in range(2):\n",
    "    for j in range(2):\n",
    "        random_index=np.random.randint(0,20000)\n",
    "        x_ray,label=train_dataset[random_index]\n",
    "        axis[i][j].imshow(x_ray[0],cmap=\"bone\")\n",
    "        axis[i][j].set_title(f\"Label:{label}\")"
   ]
  },
  {
   "cell_type": "code",
   "execution_count": null,
   "id": "59df8357",
   "metadata": {},
   "outputs": [],
   "source": [
    "print(f\"train_dataset has {len(train_dataset)} images\")\n",
    "print(f\"val_dataset has {len(val_dataset)} images\")"
   ]
  },
  {
   "cell_type": "code",
   "execution_count": null,
   "id": "06e908e9",
   "metadata": {},
   "outputs": [],
   "source": [
    "train_loader=torch.utils.data.DataLoader(train_dataset,batch_size=64,num_workers=0,shuffle=True)\n",
    "val_loader=torch.utils.data.DataLoader(val_dataset,batch_size=64,num_workers=0,shuffle=False)"
   ]
  },
  {
   "cell_type": "code",
   "execution_count": null,
   "id": "dfbc5b7f",
   "metadata": {},
   "outputs": [],
   "source": [
    "torchvision.models.resnet18()\n"
   ]
  },
  {
   "cell_type": "code",
   "execution_count": null,
   "id": "98176378",
   "metadata": {},
   "outputs": [],
   "source": [
    "np.unique(train_dataset.targets,return_counts=True)"
   ]
  },
  {
   "cell_type": "code",
   "execution_count": null,
   "id": "16381c37",
   "metadata": {},
   "outputs": [],
   "source": [
    "from torchmetrics.classification import Accuracy,AUROC\n",
    "class PneumoniaModel(pl.LightningModule):\n",
    "    def __init__(self):\n",
    "        super().__init__()\n",
    "        self.model=torchvision.models.resnet18()\n",
    "        self.model.conv1=torch.nn.Conv2d(1, 64, kernel_size=(7, 7), stride=(2, 2), padding=(3, 3), bias=False)\n",
    "        self.model.fc=torch.nn.Linear(in_features=512, out_features=1, bias=True)\n",
    "\n",
    "\n",
    "        self.optimizer=torch.optim.Adam(self.model.parameters(),lr=1e-4)\n",
    "        self.loss_fn=torch.nn.BCEWithLogitsLoss(pos_weight=torch.tensor([3]))\n",
    "\n",
    "        self.train_acc=Accuracy(task=\"binary\")\n",
    "        self.val_acc=Accuracy(task=\"binary\")\n",
    "        self.val_auc =AUROC(task=\"binary\")\n",
    "\n",
    "    def forward(self, data):\n",
    "        pred=self.model(data)\n",
    "        return pred\n",
    "    \n",
    "\n",
    "    def training_step(self,batch,batch_idx):\n",
    "        x_ray,label=batch\n",
    "        label=label.float()\n",
    "        pred=self(x_ray).squeeze(1)\n",
    "        loss=self.loss_fn(pred,label)\n",
    "\n",
    "        probs=torch.sigmoid(pred)\n",
    "        acc=self.train_acc(probs,label.int())\n",
    "\n",
    "        self.log(\"Train Loss\",loss,prog_bar=True,on_step=False,on_epoch=True)\n",
    "        self.log(\"Step Train ACC\",acc,prog_bar=True,on_step=False,on_epoch=True)\n",
    "        \n",
    "        return loss\n",
    "    \n",
    "    \n",
    "    def on_training_epoch_end(self):\n",
    "        self.log(\"Train ACC\",self.train_acc.compute())\n",
    "        \n",
    "\n",
    "    def validation_step(self,batch,batch_idx):\n",
    "        x_ray,label=batch\n",
    "        label=label.float()\n",
    "        pred=self(x_ray).squeeze(1)        \n",
    "        loss=self.loss_fn(pred,label)\n",
    "\n",
    "        probs=torch.sigmoid(pred)\n",
    "\n",
    "        acc=self.val_acc(probs,label.int())\n",
    "        self.log(\"Val Loss\",loss,prog_bar=True,on_step=False, on_epoch=True)\n",
    "        self.log(\"val_acc\",  acc,   prog_bar=True, on_step=False, on_epoch=True)\n",
    "        self.val_auc.update(probs, label.int())\n",
    "\n",
    "        \n",
    "        \n",
    "\n",
    "    def on_validation_epoch_end(self):\n",
    "        auroc = self.val_auc.compute()\n",
    "        self.log(\"val_auroc\", auroc, prog_bar=True)\n",
    "        self.val_auc.reset()\n",
    "\n",
    "\n",
    "\n",
    "    def configure_optimizers(self):\n",
    "        return [self.optimizer]\n"
   ]
  },
  {
   "cell_type": "code",
   "execution_count": null,
   "id": "465fc372",
   "metadata": {},
   "outputs": [],
   "source": [
    "model=PneumoniaModel()"
   ]
  },
  {
   "cell_type": "code",
   "execution_count": null,
   "id": "f3733fbb",
   "metadata": {},
   "outputs": [],
   "source": [
    "from pytorch_lightning.callbacks import ModelCheckpoint,EarlyStopping\n",
    "checkpoint_callback_acc=ModelCheckpoint(\n",
    "    monitor=\"val_acc\",\n",
    "    save_top_k=1,\n",
    "    mode=\"max\",\n",
    "    filename=\"best-acc-{epoch:02d}-{val_acc:.4f}-{val_auroc:.4f}\"\n",
    ")\n",
    "early_stop = EarlyStopping(monitor=\"val_auroc\", mode=\"max\", patience=5)\n",
    "checkpoint_callback_auroc=ModelCheckpoint(\n",
    "    monitor=\"val_auroc\",\n",
    "    save_top_k=1,\n",
    "    mode=\"max\",\n",
    "    filename=\"best-auroc-{epoch:02d}-{val_acc:.4f}-{val_auroc:.4f}\"\n",
    ")"
   ]
  },
  {
   "cell_type": "code",
   "execution_count": null,
   "id": "fdceaea3",
   "metadata": {},
   "outputs": [],
   "source": [
    "\n",
    "trainer=pl.Trainer(accelerator=\"gpu\",devices=1,\n",
    "        logger=TensorBoardLogger(save_dir=\"./logs\"),log_every_n_steps=1,max_epochs=35,\n",
    "        callbacks=[checkpoint_callback_acc,checkpoint_callback_auroc,early_stop])\n",
    "\n",
    "       \n",
    "        "
   ]
  },
  {
   "cell_type": "code",
   "execution_count": null,
   "id": "893eabbe",
   "metadata": {},
   "outputs": [],
   "source": [
    "import numpy as np\n",
    "\n",
    "train_labels = [y for _, y in train_dataset]\n",
    "val_labels   = [y for _, y in val_dataset]\n",
    "\n",
    "print(\"Train positives:\", np.sum(train_labels), \n",
    "      \"negatives:\", len(train_labels) - np.sum(train_labels))\n",
    "print(\"Val positives:\", np.sum(val_labels), \n",
    "      \"negatives:\", len(val_labels) - np.sum(val_labels))\n"
   ]
  },
  {
   "cell_type": "code",
   "execution_count": null,
   "id": "e778b2db",
   "metadata": {},
   "outputs": [],
   "source": [
    "print(f\"Val_loader has {len(val_loader)} images\")\n",
    "print(f\"train_loader has {len(train_loader)} images\")"
   ]
  },
  {
   "cell_type": "code",
   "execution_count": null,
   "id": "57ab5002",
   "metadata": {},
   "outputs": [],
   "source": [
    "trainer.fit(model,train_loader,val_loader)"
   ]
  },
  {
   "cell_type": "code",
   "execution_count": null,
   "id": "951b0c6e",
   "metadata": {},
   "outputs": [],
   "source": [
    "print(\"Best ACC ckpt:\", checkpoint_callback_acc.best_model_path)\n",
    "print(\"Best AUROC ckpt:\", checkpoint_callback_auroc.best_model_path)"
   ]
  },
  {
   "cell_type": "code",
   "execution_count": null,
   "id": "c155e457",
   "metadata": {},
   "outputs": [],
   "source": [
    "import os\n",
    "print(os.getcwd())\n"
   ]
  },
  {
   "cell_type": "code",
   "execution_count": null,
   "id": "a28ecc43",
   "metadata": {},
   "outputs": [],
   "source": [
    "import glob\n",
    "print(glob.glob(\"**/*.ckpt\", recursive=True))\n"
   ]
  },
  {
   "cell_type": "code",
   "execution_count": null,
   "id": "62a4f771",
   "metadata": {},
   "outputs": [],
   "source": [
    "import os\n",
    "\n",
    "ckpt_path = r\"C:\\Users\\milos\\Projects\\rsna-pneumonia-detection-challenge\\logs\\lightning_logs\\version_5\\checkpoints\\best-auroc-epoch=25-val_acc=0.8171-val_auroc=0.8936.ckpt\"\n",
    "\n",
    "print(\"Exists?\", os.path.exists(ckpt_path))\n",
    "print(\"Dir listing:\", os.listdir(os.path.dirname(ckpt_path)))\n"
   ]
  },
  {
   "cell_type": "code",
   "execution_count": null,
   "id": "75a31f64",
   "metadata": {},
   "outputs": [],
   "source": [
    "import os\n",
    "device=torch.device(\"cuda:0\" if torch.cuda.is_available() else \"cpu\")\n",
    "ckpt_path = r\"C:\\Users\\milos\\Projects\\rsna-pneumonia-detection-challenge\\logs\\lightning_logs\\version_5\\checkpoints\\best-auroc-epoch=25-val_acc=0.8171-val_auroc=0.8936.ckpt\"\n",
    "\n",
    "\n",
    "model=PneumoniaModel.load_from_checkpoint(ckpt_path)\n",
    "model.eval()\n",
    "model.to(device)"
   ]
  },
  {
   "cell_type": "code",
   "execution_count": null,
   "id": "8b0ed9a8",
   "metadata": {},
   "outputs": [],
   "source": [
    "preds=[]\n",
    "labels=[]\n",
    "\n",
    "with torch.no_grad():\n",
    "    for data,label in tqdm(val_dataset):\n",
    "        data=data.to(device).float().unsqueeze(0)\n",
    "        pred=torch.sigmoid(model(data)[0].cpu())\n",
    "        preds.append(pred)\n",
    "        labels.append(label)\n",
    "\n",
    "preds=torch.tensor(preds)\n",
    "labels=torch.tensor(labels).int()"
   ]
  },
  {
   "cell_type": "code",
   "execution_count": null,
   "id": "b4340abb",
   "metadata": {},
   "outputs": [],
   "source": [
    "import torch\n",
    "import torchmetrics\n",
    "from torchmetrics.classification import Accuracy, Precision, Recall, ConfusionMatrix\n",
    "acc=Accuracy(task=\"binary\")(preds,labels)\n",
    "precision=Precision(task=\"binary\")(preds,labels)\n",
    "recall=Recall(task=\"binary\")(preds,labels)\n",
    "cm=ConfusionMatrix(task=\"binary\", num_classes=2)(preds,labels)\n",
    "auroc=AUROC(task=\"binary\")(preds,labels)\n",
    "\n",
    "print(f\"Val Accuracy:  {acc:.4f}\")\n",
    "print(f\"Val Precision: {precision:.4f}\")\n",
    "print(f\"Val Recall:    {recall:.4f}\")\n",
    "print(\"Confusion Matrix:\")\n",
    "print(cm)\n",
    "print(f\"AUROC :  {auroc:.4f}\")"
   ]
  }
 ],
 "metadata": {
  "kernelspec": {
   "display_name": "Python (cuda_env312)",
   "language": "python",
   "name": "cuda_env312"
  },
  "language_info": {
   "codemirror_mode": {
    "name": "ipython",
    "version": 3
   },
   "file_extension": ".py",
   "mimetype": "text/x-python",
   "name": "python",
   "nbconvert_exporter": "python",
   "pygments_lexer": "ipython3",
   "version": "3.12.0"
  }
 },
 "nbformat": 4,
 "nbformat_minor": 5
}
